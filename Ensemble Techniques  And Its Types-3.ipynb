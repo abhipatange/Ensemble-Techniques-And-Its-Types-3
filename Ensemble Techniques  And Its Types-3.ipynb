{
 "cells": [
  {
   "cell_type": "code",
   "execution_count": null,
   "id": "2f2ca2db-87c1-4aad-816b-6c0c87c4d685",
   "metadata": {},
   "outputs": [],
   "source": [
    "Q1. What is Random Forest Regressor?"
   ]
  },
  {
   "cell_type": "code",
   "execution_count": null,
   "id": "487abbc4-4453-408c-8b2d-ea4dabc4d7a0",
   "metadata": {},
   "outputs": [],
   "source": [
    "ANS = \n",
    "      Random forest regression is a supervised learning algorithm and bagging technique \n",
    "      that uses an ensemble learning method for regression in machine learning.\n",
    "        The trees in random forests run in parallel, meaning there is no interaction \n",
    "         between these trees while building the trees."
   ]
  },
  {
   "cell_type": "code",
   "execution_count": null,
   "id": "edccfc95-408a-4183-8158-691c80d98360",
   "metadata": {},
   "outputs": [],
   "source": []
  },
  {
   "cell_type": "code",
   "execution_count": null,
   "id": "dd848560-67aa-4ba3-982e-880faceacbc8",
   "metadata": {},
   "outputs": [],
   "source": [
    "Q2. How does Random Forest Regressor reduce the risk of overfitting?"
   ]
  },
  {
   "cell_type": "code",
   "execution_count": null,
   "id": "22c2b313-cb6c-48c1-8be9-7a1a7dd50682",
   "metadata": {},
   "outputs": [],
   "source": [
    "ANS= \n",
    "   Instead of relying on one decision tree, the random forest takes the prediction from each tree and \n",
    "    based on the majority votes of predictions, and it predicts the final output. \n",
    "    The greater number of trees in the forest leads to higher accuracy \n",
    "     and prevents the problem of overfitting.\n"
   ]
  },
  {
   "cell_type": "code",
   "execution_count": null,
   "id": "d92a1f4d-1ca4-4933-86b3-76844acdd35c",
   "metadata": {},
   "outputs": [],
   "source": []
  },
  {
   "cell_type": "code",
   "execution_count": null,
   "id": "7d88d15d-b883-4bc7-b3a6-c2b800c074d5",
   "metadata": {},
   "outputs": [],
   "source": [
    "Q3. How does Random Forest Regressor aggregate the predictions of multiple decision trees?"
   ]
  },
  {
   "cell_type": "code",
   "execution_count": null,
   "id": "bb27ab20-321a-4c37-9890-d6d1e4b81bf5",
   "metadata": {},
   "outputs": [],
   "source": [
    "ANS = \n",
    "    It leverages an ensemble of multiple decision trees to generate predictions or classifications. \n",
    "    By combining the outputs of these trees, the random forest algorithm delivers \n",
    "    a consolidated and more accurate result"
   ]
  },
  {
   "cell_type": "code",
   "execution_count": null,
   "id": "a967633a-9708-439d-8e9d-3340df20a2c6",
   "metadata": {},
   "outputs": [],
   "source": []
  },
  {
   "cell_type": "code",
   "execution_count": null,
   "id": "beb4f17f-9ad7-481f-9cf0-1c008d02099c",
   "metadata": {},
   "outputs": [],
   "source": [
    "Q4. What are the hyperparameters of Random Forest Regressor?"
   ]
  },
  {
   "cell_type": "code",
   "execution_count": null,
   "id": "416e0d7f-8b74-44be-a312-470915ebc08b",
   "metadata": {},
   "outputs": [],
   "source": [
    "ANS = \n",
    "    In the case of a random forest, hyperparameters include the number of \n",
    "    decision trees in the forest and the number of features considered\n",
    "    by each tree when splitting a node."
   ]
  },
  {
   "cell_type": "code",
   "execution_count": null,
   "id": "e663d381-8067-4b3b-8d15-b1496357c59c",
   "metadata": {},
   "outputs": [],
   "source": []
  },
  {
   "cell_type": "code",
   "execution_count": null,
   "id": "47e9f210-246c-4081-800f-0788f3f99202",
   "metadata": {},
   "outputs": [],
   "source": [
    "Q5. What is the difference between Random Forest Regressor and Decision Tree Regressor?"
   ]
  },
  {
   "cell_type": "code",
   "execution_count": null,
   "id": "cd7aa546-2a37-466d-b5b4-a619d21b801b",
   "metadata": {},
   "outputs": [],
   "source": [
    "ANS = \n",
    "     Random forest algorithm avoids and prevents overfitting by using multiple trees. \n",
    "     The results are not accurate. \n",
    "    This gives accurate and precise results.\n",
    "    Decision trees require low computation, thus reducing time to implement and carrying low accuracy."
   ]
  },
  {
   "cell_type": "code",
   "execution_count": null,
   "id": "35ac2b37-0ec7-44df-b886-88c1ab07c951",
   "metadata": {},
   "outputs": [],
   "source": []
  },
  {
   "cell_type": "code",
   "execution_count": null,
   "id": "aa818215-bc8a-4a42-a89a-d5520ac005d6",
   "metadata": {},
   "outputs": [],
   "source": [
    "Q6. What are the advantages and disadvantages of Random Forest Regressor?"
   ]
  },
  {
   "cell_type": "code",
   "execution_count": null,
   "id": "8db9113c-958f-4ceb-9dc2-ae6a37b68a13",
   "metadata": {},
   "outputs": [],
   "source": [
    "ANS = \n",
    "     In summary, Random Forest is a powerful algorithm that can provide accurate predictions\n",
    "    for both classification and regression problems.\n",
    "    it has some limitations in terms of interpretability, overfitting, training time, and memory usage."
   ]
  },
  {
   "cell_type": "code",
   "execution_count": null,
   "id": "4b9d8837-dd5b-4c06-9d3b-c9cac9fd27c7",
   "metadata": {},
   "outputs": [],
   "source": []
  },
  {
   "cell_type": "code",
   "execution_count": null,
   "id": "508c729d-708a-4ec8-9a66-8fc34b04b8b8",
   "metadata": {},
   "outputs": [],
   "source": [
    "Q7. What is the output of Random Forest Regressor?"
   ]
  },
  {
   "cell_type": "code",
   "execution_count": null,
   "id": "77fd1045-df2d-4aea-baec-826ff350cf70",
   "metadata": {},
   "outputs": [],
   "source": [
    "ANS = \n",
    "    At certain values of each feature, the decision tree outputs a classification of blue, green, red, etc. \n",
    "    The above results are aggregated, through model votes or averaging, into a single ensemble\n",
    "    model that ends up outperforming any individual decision tree's output."
   ]
  },
  {
   "cell_type": "code",
   "execution_count": null,
   "id": "797e1670-4ad0-4e12-a38e-14a7169f11f7",
   "metadata": {},
   "outputs": [],
   "source": []
  },
  {
   "cell_type": "code",
   "execution_count": null,
   "id": "e1179696-469e-42fc-9071-2902bf212cd5",
   "metadata": {},
   "outputs": [],
   "source": [
    "Q8. Can Random Forest Regressor be used for classification tasks?"
   ]
  },
  {
   "cell_type": "code",
   "execution_count": null,
   "id": "ed12c5ed-07e5-439d-ae4a-b52e2edf4f62",
   "metadata": {},
   "outputs": [],
   "source": [
    "ANS = \n",
    "    "
   ]
  },
  {
   "cell_type": "code",
   "execution_count": null,
   "id": "15cf3482-c56c-4b51-90f3-9312b406f82b",
   "metadata": {},
   "outputs": [],
   "source": []
  },
  {
   "cell_type": "code",
   "execution_count": null,
   "id": "6bd59c8e-b126-47a8-a0e0-1ea5efae1b6c",
   "metadata": {},
   "outputs": [],
   "source": []
  },
  {
   "cell_type": "code",
   "execution_count": null,
   "id": "102be1cc-85e9-4a74-b069-3c6532a230af",
   "metadata": {},
   "outputs": [],
   "source": []
  },
  {
   "cell_type": "code",
   "execution_count": null,
   "id": "16cf0937-fdce-42be-9660-dd9fc4724aaa",
   "metadata": {},
   "outputs": [],
   "source": []
  },
  {
   "cell_type": "code",
   "execution_count": null,
   "id": "bb4be50e-e4ba-4c47-9b67-a65b4eec8910",
   "metadata": {},
   "outputs": [],
   "source": []
  },
  {
   "cell_type": "code",
   "execution_count": null,
   "id": "46f9f2d6-c9bb-4997-a467-e9a85908ced2",
   "metadata": {},
   "outputs": [],
   "source": []
  },
  {
   "cell_type": "code",
   "execution_count": null,
   "id": "53eda327-4754-40c3-8a6a-87adabb3874d",
   "metadata": {},
   "outputs": [],
   "source": []
  }
 ],
 "metadata": {
  "kernelspec": {
   "display_name": "Python 3 (ipykernel)",
   "language": "python",
   "name": "python3"
  },
  "language_info": {
   "codemirror_mode": {
    "name": "ipython",
    "version": 3
   },
   "file_extension": ".py",
   "mimetype": "text/x-python",
   "name": "python",
   "nbconvert_exporter": "python",
   "pygments_lexer": "ipython3",
   "version": "3.10.8"
  }
 },
 "nbformat": 4,
 "nbformat_minor": 5
}
